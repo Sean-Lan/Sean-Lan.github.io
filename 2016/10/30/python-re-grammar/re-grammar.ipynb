{
 "cells": [
  {
   "cell_type": "markdown",
   "metadata": {},
   "source": [
    "# re Grammar\n",
    "\n",
    "This notebook contains the following grammar: \n",
    "\n",
    "1. repetition\n",
    "2. character set\n",
    "3. anchoring\n",
    "4. group\n",
    "5. search options\n",
    "6. look ahead and behind assertion\n",
    "7. self referecing\n",
    "\n",
    "\n",
    "## Repetition\n",
    "\n",
    "It's very common in `re` to match pattern showing one or more times, and that's what the *repetition* do. There are five repetition expression:\n",
    "\n",
    "| Pattern | Meaning | Example |\n",
    "|---------|---------| --------|\n",
    "| `*`     | repeat zero or more times | `ab*`: `a` followed by zero or more `b` |\n",
    "| `+`     | repeat one or more times | `ab+`: `a` followed by one or more `b` |\n",
    "| `?`     | repeat zero or one time | `ab?`: `a` followed by zero or one `b`  |\n",
    "| `{m}`   | repeat `m` times | `ab{3}`: `a` followed by three `b` |\n",
    "| `{m,n}` | repeat `m` to `n` times | `ab{2,5}`: `a` followed by two to five `b` |\n",
    "\n",
    "### Greedy vs. Non-Greedy\n",
    "\n",
    "The default matching process is *greedy*, which consumes as much input as possible. For example, when using `ab+` to match `abbb`, the result is `abbb`. We can turn off greedy mode by appending a `?` mark after the repetition expression: Use `ab+?c` to match `abbb`, the result will be `ab`.\n",
    "\n",
    "Here is another example:"
   ]
  },
  {
   "cell_type": "code",
   "execution_count": 1,
   "metadata": {
    "collapsed": false
   },
   "outputs": [
    {
     "name": "stdout",
     "output_type": "stream",
     "text": [
      "Greedy:\n",
      "Good Good Good Good Good\n",
      "\n",
      "Non-Greedy:\n",
      "Good Good \n",
      "\n"
     ]
    }
   ],
   "source": [
    "import re\n",
    "\n",
    "s = 'Good Good Good Good Good'\n",
    "\n",
    "pattern = r'(Good\\s*){2,5}'\n",
    "pattern_non_greedy = r'(Good\\s*){2,5}?'\n",
    "\n",
    "print 'Greedy:'\n",
    "print re.search(pattern, s).group(0)\n",
    "print\n",
    "\n",
    "print 'Non-Greedy:'\n",
    "print re.search(pattern_non_greedy, s).group(0)\n",
    "print\n"
   ]
  },
  {
   "cell_type": "markdown",
   "metadata": {},
   "source": [
    "Here is another example to obtain the comments in the code, without the leading and trailing space characters:"
   ]
  },
  {
   "cell_type": "code",
   "execution_count": 2,
   "metadata": {
    "collapsed": false
   },
   "outputs": [
    {
     "data": {
      "text/plain": [
       "['Some comments(1)\\n    ...', 'Some comments(2)\\n    ...']"
      ]
     },
     "execution_count": 2,
     "metadata": {},
     "output_type": "execute_result"
    }
   ],
   "source": [
    "import re\n",
    "\n",
    "sample_code = \\\n",
    "    r\"\"\"\n",
    "    /**\n",
    "    \n",
    "    Some comments(1)\n",
    "    ...\n",
    "    \n",
    "    */\n",
    "    \n",
    "    codes.\n",
    "    \n",
    "    /**\n",
    "    \n",
    "    Some comments(2)\n",
    "    ...\n",
    "    \n",
    "    */\n",
    "    \"\"\"\n",
    "\n",
    "pattern = r\"(?s)/\\*+\\s+(.*?)\\s+\\*/\"\n",
    "\n",
    "re.findall(pattern, sample_code)"
   ]
  },
  {
   "cell_type": "markdown",
   "metadata": {},
   "source": [
    "The `(?s)` flag let dot (`.`) match `\\n`, which I'll detail later. It's very importaint to use non-greedy mode to prevent `(.*)` from matching `*/` in the middle of the source code."
   ]
  },
  {
   "cell_type": "markdown",
   "metadata": {},
   "source": [
    "## Character Set\n",
    "\n",
    "Sometimes, we want to match one of a group of characters, and that's the *character set*. For example, `[abc]` will match `a`, `b` or `c`. Usually, character set is used together with repetition expression, e.g: `[ab]+` will match string comprised of one or more `a` and `b`. \n",
    "\n",
    "Adding a `^` mark at the beginning of a character set excludes all charaters in the set, which means match any character not in the set. For example, `[^abc]+` will match `google` rather than `apple`.\n",
    "\n",
    "When there are too many characters in a character set and many of them are coninuous, a `character range` may help you save time key strokes. The following table shows some common character ranges:\n",
    "\n",
    "| Character Range | Meaning |\n",
    "|-----------------|---------|\n",
    "| `[0-9]` | all number digits |\n",
    "| `[a-z]` | all lower case letters |\n",
    "| `[A-Z]` | all upper case letters |\n",
    "| `[a-zA-Z]` | all lower and upper case letters |\n",
    "| `[a-zA-Z0-9]` | the alphanumeric |\n",
    "\n",
    "Based on your demand, you can set the start and end of your range and the range match any charater falls into it. For example: `[2-4]` will only match `2`, `3` and `4`.\n",
    "\n",
    "Dot (`.`) is a very special character which represents a character set matching any single character except `\\n`. There is a `.` related flag `DOTALL`, with this flag, `.` can match `\\n`:"
   ]
  },
  {
   "cell_type": "code",
   "execution_count": 3,
   "metadata": {
    "collapsed": false
   },
   "outputs": [
    {
     "name": "stdout",
     "output_type": "stream",
     "text": [
      "Without DOTALL:\n",
      "'abc\\t'\n",
      "'0980879'\n",
      "\n",
      "With DOTALL:\n",
      "'abc\\t\\n0980879'\n"
     ]
    }
   ],
   "source": [
    "import re\n",
    "s = 'abc\\t\\n0980879'\n",
    "match_iter = re.finditer(r'.+', s)\n",
    "\n",
    "print 'Without DOTALL:'\n",
    "for m in match_iter:\n",
    "    print repr(s[m.start() : m.end()])\n",
    "print\n",
    "    \n",
    "print 'With DOTALL:'\n",
    "match_iter2 = re.finditer(r'.+', s, re.DOTALL)\n",
    "\n",
    "for m in match_iter2:\n",
    "    print repr(s[m.start() : m.end()])"
   ]
  },
  {
   "cell_type": "markdown",
   "metadata": {},
   "source": [
    "Some character sets can be used with *escape codes*, which is more compact:\n",
    "\n",
    "| Code | Character Set | Meaning |\n",
    "|------|---------------|---------|\n",
    "| `\\d` | `[0-9]`       | a digit |\n",
    "| `\\D` | `[^0-9]`      | a non-digit |\n",
    "| `\\s` | `[\\t\\n ]` (and some not common whitespace characters) | whitespace |\n",
    "| `\\S` | `[^\\t\\n ]` | non-whitespace |\n",
    "| `\\w` | `[a-zA-Z0-9]` | alphanumeric |\n",
    "| `\\W` | `[^a-zA-Z0-9]` | non-alphanumeric |"
   ]
  },
  {
   "cell_type": "code",
   "execution_count": 4,
   "metadata": {
    "collapsed": false
   },
   "outputs": [
    {
     "name": "stdout",
     "output_type": "stream",
     "text": [
      "' \\t\\n\\t  '\n"
     ]
    }
   ],
   "source": [
    "import re\n",
    "s = 'abc \\t\\n\\t  0980879'\n",
    "match_iter = re.finditer(r'[\\s]+', s)\n",
    "\n",
    "for m in match_iter:\n",
    "    print repr(s[m.start() : m.end()])"
   ]
  },
  {
   "cell_type": "markdown",
   "metadata": {},
   "source": [
    "## Anchoring\n",
    "\n",
    "It's very common that you would like the match begin at some specific position, the *anchoring instructions* can help you do that: \n",
    "\n",
    "| Code | Meaning |\n",
    "|------|---------|\n",
    "| `^`  | start of string, or line. |\n",
    "| `$`  | end of string, or line. |\n",
    "| `\\A` | start of string. |\n",
    "| `\\Z` | end of string. |\n",
    "| `\\b` | empty string at the beginning or end of a word |\n",
    "| `\\B` | empty string not at the beginning or end of a word |\n",
    "\n",
    "`\\b` and `\\B` is hard to distinguish, let's see an example to make things more clear:"
   ]
  },
  {
   "cell_type": "code",
   "execution_count": 5,
   "metadata": {
    "collapsed": false
   },
   "outputs": [
    {
     "name": "stdout",
     "output_type": "stream",
     "text": [
      "\\b\\d+\\b '123456789'\n",
      "\\B\\d+\\B '2345678'\n"
     ]
    }
   ],
   "source": [
    "import re\n",
    "s = '123456789'\n",
    "b_pattern = r'\\b\\d+\\b'\n",
    "B_pattern = r'\\B\\d+\\B'\n",
    "\n",
    "for pattern in [b_pattern, B_pattern]:\n",
    "    print pattern,\n",
    "    m = re.search(pattern, s)\n",
    "    if m: print repr(s[m.start() : m.end()])"
   ]
  },
  {
   "cell_type": "markdown",
   "metadata": {},
   "source": [
    "In the above example, `\\b\\d+\\b` matches all the digits since they start from the beginning and ends at the end; `\\B\\d+\\B` matches only the *inner* part because `\\B` is somewhere in the word."
   ]
  },
  {
   "cell_type": "markdown",
   "metadata": {},
   "source": [
    "## Group\n",
    "\n",
    "If you care about some parts of the search result, the *group* syntax can help. A group can be created by wrapping the part into parethesis (`()`), and you can retrieve the group either by `MatchObject` instance's `groups()` method or `group()` method:"
   ]
  },
  {
   "cell_type": "code",
   "execution_count": 6,
   "metadata": {
    "collapsed": false
   },
   "outputs": [
    {
     "name": "stdout",
     "output_type": "stream",
     "text": [
      "('Sean', 'sean.lan.thu@gmail.com')\n",
      "Sean sean.lan.thu@gmail.com\n"
     ]
    }
   ],
   "source": [
    "import re\n",
    "\n",
    "s = 'Sean <sean.lan.thu@gmail.com>'\n",
    "pattern = r'(\\w+)\\s+<(.+)>'\n",
    "\n",
    "m = re.search(pattern, s)\n",
    "\n",
    "print m.groups()\n",
    "print m.group(1), m.group(2)"
   ]
  },
  {
   "cell_type": "markdown",
   "metadata": {},
   "source": [
    "The groups are ordered by the left parenthesis and start from 1. Group 0 is the whole match. If the group doesn't find a match, `None` object will be used as the result:"
   ]
  },
  {
   "cell_type": "code",
   "execution_count": 7,
   "metadata": {
    "collapsed": false
   },
   "outputs": [
    {
     "name": "stdout",
     "output_type": "stream",
     "text": [
      "('Sean', '\"sean.lan.thu@gmail.com\"', None, '\"sean.lan.thu@gmail.com\"')\n"
     ]
    }
   ],
   "source": [
    "import re\n",
    "\n",
    "# e-mail address may be wrapped by <> or \"\"\n",
    "s = 'Sean \"sean.lan.thu@gmail.com\"'\n",
    "\n",
    "pattern = r'(\\w+)\\s+((<.+>)|(\".+\"))'\n",
    "\n",
    "m = re.search(pattern, s)\n",
    "\n",
    "print m.groups()"
   ]
  },
  {
   "cell_type": "markdown",
   "metadata": {},
   "source": [
    "The follow table gives the mapping between group index, pattern and match:\n",
    "\n",
    "| Group Index | Pattern | Match |\n",
    "|:-----------:|---------|-------|\n",
    "| `1`         | `(\\w+)` | `Sean` |\n",
    "| `2`         | <code>((&lt;.+&gt;)&#124;(\".+\"))</code> | `\"sean.lan.thu@gmail.com\"` |\n",
    "| `3`         | `(<.+>)`| `None` |\n",
    "| `4`         | `(\".+\")`| `\"sean.lan.thu@gmail.com\"` |"
   ]
  },
  {
   "cell_type": "markdown",
   "metadata": {},
   "source": [
    "### Named Group\n",
    "\n",
    "`re` module also supports *named group*, with which you can give each group a name. The syntax of nameed group is `(?P<name>pattern)`. Still using the name and e-mail matching example, you can used named group to make the pattern more readable."
   ]
  },
  {
   "cell_type": "code",
   "execution_count": 8,
   "metadata": {
    "collapsed": false
   },
   "outputs": [
    {
     "name": "stdout",
     "output_type": "stream",
     "text": [
      "('Sean', '\"sean.lan.thu@gmail.com\"', None, '\"sean.lan.thu@gmail.com\"')\n",
      "{'name': 'Sean', 'email': '\"sean.lan.thu@gmail.com\"'}\n"
     ]
    }
   ],
   "source": [
    "import re\n",
    "\n",
    "# e-mail address may be wrapped by <> or \"\"\n",
    "s = 'Sean \"sean.lan.thu@gmail.com\"'\n",
    "\n",
    "pattern = r'(?P<name>\\w+)\\s+(?P<email>(<.+>)|(\".+\"))'\n",
    "\n",
    "m = re.search(pattern, s)\n",
    "\n",
    "print m.groups()\n",
    "print m.groupdict()"
   ]
  },
  {
   "cell_type": "markdown",
   "metadata": {},
   "source": [
    "It's clearer to use named groups than ordinary groups since we can know each part is all about from the names."
   ]
  },
  {
   "cell_type": "markdown",
   "metadata": {},
   "source": [
    "### Non-capture Group\n",
    "\n",
    "Sometimes you just want to group someting to use the repetition expression and do not want it shown in the group results. In this case, a non-capture group can help. It's syntax is `(?:pattern)`."
   ]
  },
  {
   "cell_type": "code",
   "execution_count": 9,
   "metadata": {
    "collapsed": false
   },
   "outputs": [
    {
     "name": "stdout",
     "output_type": "stream",
     "text": [
      "('Sean', '\"sean.lan.thu@gmail.com\"')\n",
      "{'name': 'Sean', 'email': '\"sean.lan.thu@gmail.com\"'}\n"
     ]
    }
   ],
   "source": [
    "import re\n",
    "\n",
    "# e-mail address may be wrapped by <> or \"\"\n",
    "s = 'Sean \"sean.lan.thu@gmail.com\"'\n",
    "\n",
    "pattern = r'(?P<name>\\w+)\\s+(?P<email>(?:<.+>)|(?:\".+\"))'\n",
    "\n",
    "m = re.search(pattern, s)\n",
    "\n",
    "print m.groups()\n",
    "print m.groupdict()"
   ]
  },
  {
   "cell_type": "markdown",
   "metadata": {},
   "source": [
    "You can see that `(<.+>)` and `(\".+\")` are no longer in the group set after changing them into non-capture groups.\n",
    "\n",
    "If you care about angle brackets or quotes, here is a more complex version using look ahead and behind assertions, which I'll detail later. If you find this example too complicated for you now, just skip it and visit it back after you have learned the assertion syntax:"
   ]
  },
  {
   "cell_type": "code",
   "execution_count": 10,
   "metadata": {
    "collapsed": false
   },
   "outputs": [
    {
     "name": "stdout",
     "output_type": "stream",
     "text": [
      "('Sean', 'sean.lan.thu@gmail.com')\n",
      "{'name': 'Sean', 'email': 'sean.lan.thu@gmail.com'}\n"
     ]
    }
   ],
   "source": [
    "import re\n",
    "\n",
    "# e-mail address may be wrapped by <> or \"\"\n",
    "s = 'Sean \"sean.lan.thu@gmail.com\"'\n",
    "\n",
    "pattern = \\\n",
    "    r\"\"\"(?x)           # verbose mode\n",
    "    (?P<name>\\w+)      # user name part\n",
    "    \\s+ \n",
    "    [<\"]\n",
    "    (?P<email>         # email address part\n",
    "        (?<=<)(?:[\\w.-]+)@(?:[\\w.-]+)(?=>) # wrapped by <>\n",
    "        |\n",
    "        (?<=\")(?:[\\w.-]+)@(?:[\\w.-]+)(?=\") # wrapped by \"\"\n",
    "    )\n",
    "    [>\"]\n",
    "    \"\"\"\n",
    "\n",
    "m = re.search(pattern, s)\n",
    "\n",
    "print m.groups()\n",
    "print m.groupdict()"
   ]
  },
  {
   "cell_type": "markdown",
   "metadata": {},
   "source": [
    "## Search Options\n",
    "\n",
    "The search options are also a part of the `re` grammar, they change search behavior. `re` module function has a named parameter `flags`, you can use `|` operation to set mutiple flags at the same time. Also, you can add flag abbreviations at the beginning of the pattern using the syntax `(?flags)`. The following table shows the flags and their abbreviation.\n",
    "\n",
    "| Flag | Abbreviation | Meaning |\n",
    "|------|--------------|---------|\n",
    "| `IGNORECASE` | `i` | Let the search be case in-sensitive. |\n",
    "| `MULTILINE` | `m` | Let `^` and `$` match the begin and end of each line. |\n",
    "| `DOTALL` | `s` | Let `.` match `\\n`. |\n",
    "| `UNICODE`| `u` | Add unicode support. |\n",
    "| `VERBOSE` | `x` | Ignore white spaces and comments in the pattern. |\n",
    "\n",
    "Let's see a simple example using `MULTILINE` and `IGNORECASE` flag:"
   ]
  },
  {
   "cell_type": "code",
   "execution_count": 11,
   "metadata": {
    "collapsed": false
   },
   "outputs": [
    {
     "name": "stdout",
     "output_type": "stream",
     "text": [
      "['This', 'This', 'This']\n",
      "['This', 'This', 'This']\n"
     ]
    }
   ],
   "source": [
    "import re\n",
    "\n",
    "s = \"\"\"This is the first paragraph.\n",
    "This is the second.\n",
    "This is the third.\n",
    "\"\"\"\n",
    "\n",
    "print re.findall(r'^this', s, flags=re.MULTILINE|re.IGNORECASE)\n",
    "print re.findall(r'(?im)^this', s)"
   ]
  },
  {
   "cell_type": "markdown",
   "metadata": {},
   "source": [
    "The `DOTALL` flag has been discussed in previous section, here we just skip it. The `UNICODE` flag is help when you deal with unicode string. Without this flag, `\\w` will not match some Chinese characters, and it will match them if `UNICODE` flag is used:"
   ]
  },
  {
   "cell_type": "code",
   "execution_count": 12,
   "metadata": {
    "collapsed": false
   },
   "outputs": [
    {
     "name": "stdout",
     "output_type": "stream",
     "text": [
      "(\\w+)\\s+(\\w+)\n",
      "[]\n",
      "\n",
      "(?u)(\\w+)\\s+(\\w+)\n",
      "[(u'\\u81ea\\u5f3a\\u4e0d\\u606f', u'\\u539a\\u5fb7\\u8f7d\\u7269')]\n"
     ]
    }
   ],
   "source": [
    "import re\n",
    "\n",
    "motto = u\"自强不息 厚德载物\"\n",
    "\n",
    "pattern = r'(\\w+)\\s+(\\w+)'\n",
    "pattern_u = r'(?u)(\\w+)\\s+(\\w+)'\n",
    "\n",
    "print pattern\n",
    "print re.findall(pattern, motto)\n",
    "print\n",
    "\n",
    "print pattern_u\n",
    "print re.findall(pattern_u, motto)"
   ]
  },
  {
   "cell_type": "markdown",
   "metadata": {},
   "source": [
    "When your regular expression is very complicated, it's very helpful to use the `VERBOSE` flag to add some comments:"
   ]
  },
  {
   "cell_type": "code",
   "execution_count": 13,
   "metadata": {
    "collapsed": false
   },
   "outputs": [
    {
     "name": "stdout",
     "output_type": "stream",
     "text": [
      "[('Sean', 'sean.lan.thu', 'gmail.com')]\n"
     ]
    }
   ],
   "source": [
    "import re\n",
    "\n",
    "s = 'Sean <sean.lan.thu@gmail.com>'\n",
    "pattern = \\\n",
    "    r\"\"\"\n",
    "    (\\w+)        # user name\n",
    "    \\s+\n",
    "    <([\\w.-]+)   # local part of the e-mail address\n",
    "    @\n",
    "    ([\\w.-]+)    # domain part of the e-mail address\n",
    "    >\n",
    "    \"\"\"\n",
    "    \n",
    "print re.findall(pattern, s, flags=re.VERBOSE)"
   ]
  },
  {
   "cell_type": "markdown",
   "metadata": {},
   "source": [
    "## Look Ahead and Look Behind\n",
    "\n",
    "`re` has another powerful feature named *look ahead assertion*, it enables you to \"look ahead\" at the string to see whether it matches or not. The look ahead assertion doesn't consume any input, and if it fails, the search will end.\n",
    "\n",
    "The positive look ahead assertion's syntax is `(?=pattern)`. "
   ]
  },
  {
   "cell_type": "code",
   "execution_count": 14,
   "metadata": {
    "collapsed": false
   },
   "outputs": [
    {
     "name": "stdout",
     "output_type": "stream",
     "text": [
      "[('Sean', 'sean.lan.thu', 'gmail.com')]\n",
      "[('Sean', 'sean.lan.thu', 'gmail.com')]\n",
      "[]\n"
     ]
    }
   ],
   "source": [
    "import re\n",
    "\n",
    "s1 = 'Sean sean.lan.thu@gmail.com'\n",
    "s2 = 'Sean <sean.lan.thu@gmail.com>'\n",
    "s3 = 'Sean \"sean.lan.thu@gmail.com\"'\n",
    "\n",
    "pattern = \\\n",
    "    r\"\"\"(?x)      # verbose mode\n",
    "    (\\w+)        # user name\n",
    "    \\s+\n",
    "    (?=<[\\w.-]+@[\\w.-]+> | # only email wrapped with <> \n",
    "        [\\w.-]+@[\\w.-]+)   # or not wrapped with any thing is valid\n",
    "    <?\n",
    "    ([\\w.-]+)    # local part of the e-mail address\n",
    "    @\n",
    "    ([\\w.-]+)    # domain part of the e-mail address\n",
    "    >?\n",
    "    \"\"\"\n",
    "    \n",
    "print re.findall(pattern, s1)\n",
    "print re.findall(pattern, s2)\n",
    "print re.findall(pattern, s3) # won't match"
   ]
  },
  {
   "cell_type": "markdown",
   "metadata": {},
   "source": [
    "The negative look ahead assertion's syntax is `(?!pattern)`. The match will go on only if pattern in the negative look ahead assertion not find any match."
   ]
  },
  {
   "cell_type": "code",
   "execution_count": 15,
   "metadata": {
    "collapsed": false
   },
   "outputs": [
    {
     "name": "stdout",
     "output_type": "stream",
     "text": [
      "[('somebody', 'somecompany.com')]\n",
      "[]\n"
     ]
    }
   ],
   "source": [
    "import re\n",
    "\n",
    "s1 = 'somebody@somecompany.com'\n",
    "s2 = 'somebody@unknown.com'\n",
    "\n",
    "pattern = \\\n",
    "    r\"\"\"(?x)      # verbose mode\n",
    "    (?![\\w.-]+@unknown\\.com)  # filter out e-mails sent from unknown.com\n",
    "    ([\\w.-]+)     # local part of the e-mail address\n",
    "    @\n",
    "    ([\\w.-]+)     # domain part of the e-mail address\n",
    "    \"\"\"\n",
    "\n",
    "print re.findall(pattern, s1)\n",
    "print re.findall(pattern, s2) # won't match"
   ]
  },
  {
   "cell_type": "markdown",
   "metadata": {},
   "source": [
    "The above example can also be written using *negative look behind assertion*, whose syntax is `(?<!pattern)`:"
   ]
  },
  {
   "cell_type": "code",
   "execution_count": 16,
   "metadata": {
    "collapsed": false
   },
   "outputs": [
    {
     "name": "stdout",
     "output_type": "stream",
     "text": [
      "[('somebody', 'somecompany.com')]\n",
      "[]\n"
     ]
    }
   ],
   "source": [
    "import re\n",
    "\n",
    "s1 = 'somebody@somecompany.com'\n",
    "s2 = 'somebody@unknown.com'\n",
    "\n",
    "pattern = \\\n",
    "    r\"\"\"(?x)      # verbose mode\n",
    "    ([\\w.-]+)     # local part of the e-mail address\n",
    "    @\n",
    "    ([\\w.-]+)$    # domain part of the e-mail address\n",
    "    (?<!unknown\\.com)  # filter out e-mails sent from unknown.com\n",
    "    \"\"\"\n",
    "\n",
    "print re.findall(pattern, s1)\n",
    "print re.findall(pattern, s2) # won't match"
   ]
  },
  {
   "cell_type": "markdown",
   "metadata": {},
   "source": [
    "Different from look ahead assertion, there is one requirement for look behind assertion that its pattern must be of fixed width, which means no wildcard or range repetition is allowed. For example, `(?<!apple{2})` is ok but `(?<!apple{2,3})` is not.\n",
    "\n",
    "The syntax of positive look behind assertion is `(?<=pattern)`, and the following example only matches gmail e-mail addresses:"
   ]
  },
  {
   "cell_type": "code",
   "execution_count": 17,
   "metadata": {
    "collapsed": false
   },
   "outputs": [
    {
     "name": "stdout",
     "output_type": "stream",
     "text": [
      "[('somebody', 'gmail.com')]\n",
      "[]\n"
     ]
    }
   ],
   "source": [
    "import re\n",
    "\n",
    "s1 = 'somebody@gmail.com'\n",
    "s2 = 'somebody@unknown.com'\n",
    "\n",
    "pattern = \\\n",
    "    r\"\"\"(?x)         # verbose mode\n",
    "    ([\\w.-]+)        # local part of the e-mail address\n",
    "    @\n",
    "    ([\\w.-]+)$       # domain part of the e-mail address\n",
    "    (?<=gmail\\.com)  # filter out e-mails not sent from gmail.com\n",
    "    \"\"\"\n",
    "\n",
    "print re.findall(pattern, s1)\n",
    "print re.findall(pattern, s2) # won't match"
   ]
  },
  {
   "cell_type": "markdown",
   "metadata": {},
   "source": [
    "## Self-referencing\n",
    "\n",
    "`re` also allows you to use the group  previously capured later with self-referencing syntax `\\num`, where `num` is the group index start from `1`."
   ]
  },
  {
   "cell_type": "code",
   "execution_count": 18,
   "metadata": {
    "collapsed": false
   },
   "outputs": [
    {
     "name": "stdout",
     "output_type": "stream",
     "text": [
      "[('Sean', 'gmail.com')]\n",
      "[]\n"
     ]
    }
   ],
   "source": [
    "import re\n",
    "\n",
    "s1 = 'Sean sean@gmail.com'\n",
    "s2 = 'Sean somebody@gmail.com'\n",
    "\n",
    "pattern = \\\n",
    "   r\"\"\"(?ix)     # verbose mode, ignore case\n",
    "    (\\w+)        # user name\n",
    "    \\s+\n",
    "    \\1           # local part must be the same with the user name\n",
    "    @\n",
    "    ([\\w.-]+)$   # domain part of the e-mail address\n",
    "    \"\"\"\n",
    "\n",
    "print re.findall(pattern, s1)\n",
    "print re.findall(pattern, s2) # won't match"
   ]
  },
  {
   "cell_type": "markdown",
   "metadata": {},
   "source": [
    "You can also reference a named group by `(?P=name)`:"
   ]
  },
  {
   "cell_type": "code",
   "execution_count": 19,
   "metadata": {
    "collapsed": false
   },
   "outputs": [
    {
     "name": "stdout",
     "output_type": "stream",
     "text": [
      "[('Sean', 'gmail.com')]\n",
      "[]\n"
     ]
    }
   ],
   "source": [
    "import re\n",
    "\n",
    "s1 = 'Sean sean@gmail.com'\n",
    "s2 = 'Sean somebody@gmail.com'\n",
    "\n",
    "pattern = \\\n",
    "   r\"\"\"(?ix)          # verbose mode, ignore case\n",
    "    (?P<name>\\w+)     # user name\n",
    "    \\s+\n",
    "    (?P=name)         # local part must be the same with the user name\n",
    "    @\n",
    "    ([\\w.-]+)$        # domain part of the e-mail address\n",
    "    \"\"\"\n",
    "\n",
    "print re.findall(pattern, s1)\n",
    "print re.findall(pattern, s2) # won't match"
   ]
  },
  {
   "cell_type": "markdown",
   "metadata": {},
   "source": [
    "In `re.sub()` and `re.subn()`, you can reference a group in `repl` parameter by `\\g<name>` if it's named or `\\g<num>` if not :"
   ]
  },
  {
   "cell_type": "code",
   "execution_count": 20,
   "metadata": {
    "collapsed": false
   },
   "outputs": [
    {
     "name": "stdout",
     "output_type": "stream",
     "text": [
      "sean at gmail.com\n"
     ]
    }
   ],
   "source": [
    "import re\n",
    "\n",
    "s = 'sean@gmail.com'\n",
    "\n",
    "print re.sub(pattern=r'(?P<local>[\\w.-]+)@([\\w.-]+)', \n",
    "             repl=r'\\g<local> at \\g<2>', \n",
    "             string=s)"
   ]
  },
  {
   "cell_type": "markdown",
   "metadata": {},
   "source": [
    "In `MatchObject.expand()` method, you can also reference a group in `template` paremeter by `\\g<name>` or `\\g<num>`:"
   ]
  },
  {
   "cell_type": "code",
   "execution_count": 21,
   "metadata": {
    "collapsed": false
   },
   "outputs": [
    {
     "name": "stdout",
     "output_type": "stream",
     "text": [
      "sean at gmail.com\n"
     ]
    }
   ],
   "source": [
    "import re\n",
    "\n",
    "s = 'sean@gmail.com'\n",
    "\n",
    "m = re.search(pattern=r'(?P<local>[\\w.-]+)@([\\w.-]+)', string=s)\n",
    "\n",
    "if m:\n",
    "    print m.expand(r'\\g<local> at \\g<2>')"
   ]
  },
  {
   "cell_type": "markdown",
   "metadata": {},
   "source": [
    "You can also use self-referencing for conditional match: `(?(id)true-pattern|false-pattern)`, where `id` is the group name or number, `true-pattern` is the pattern to use if the group finds a match and `false-pattern` is the pattern to use otherwise. The `false-pattern` is optional:"
   ]
  },
  {
   "cell_type": "code",
   "execution_count": 22,
   "metadata": {
    "collapsed": false
   },
   "outputs": [
    {
     "name": "stdout",
     "output_type": "stream",
     "text": [
      "<sean@gmail.com> Valid\n",
      "sean@gmail.com Valid\n",
      "<sean@gmail.com Not Valid\n"
     ]
    }
   ],
   "source": [
    "import re\n",
    "\n",
    "s1 = '<sean@gmail.com>'\n",
    "s2 = 'sean@gmail.com'\n",
    "s3 = '<sean@gmail.com'\n",
    "\n",
    "pattern = \\\n",
    "    r\"\"\"(?x)       # verbose mode\n",
    "    ^\n",
    "    (?P<angle_bracket><)?\n",
    "    ([\\w.-]+)              # local part must be the same with the user name\n",
    "    @\n",
    "    ([\\w.-]+)              # domain part of the e-mail address\n",
    "    (?(angle_bracket)      # if it has left angle bracket\n",
    "    >                      # it must has a right angle bracket \n",
    "    )\n",
    "    \"\"\"\n",
    "\n",
    "for s in [s1, s2, s3]:\n",
    "    m = re.search(pattern, s)\n",
    "    print s, \n",
    "    if m:\n",
    "        print \"Valid\"\n",
    "    else:\n",
    "        print 'Not Valid'"
   ]
  }
 ],
 "metadata": {
  "kernelspec": {
   "display_name": "Python 2",
   "language": "python",
   "name": "python2"
  },
  "language_info": {
   "codemirror_mode": {
    "name": "ipython",
    "version": 2
   },
   "file_extension": ".py",
   "mimetype": "text/x-python",
   "name": "python",
   "nbconvert_exporter": "python",
   "pygments_lexer": "ipython2",
   "version": "2.7.11"
  }
 },
 "nbformat": 4,
 "nbformat_minor": 1
}
